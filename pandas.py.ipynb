{
 "cells": [
  {
   "cell_type": "code",
   "execution_count": 1,
   "metadata": {},
   "outputs": [
    {
     "data": {
      "text/plain": [
       "0     Chocolate\n",
       "1         Mango\n",
       "2       Vanilla\n",
       "3    Strawberry\n",
       "4         Kesar\n",
       "dtype: object"
      ]
     },
     "execution_count": 1,
     "metadata": {},
     "output_type": "execute_result"
    }
   ],
   "source": [
    "#pandas series objects\n",
    "import pandas as pd\n",
    "kulfi = ['Chocolate','Mango','Vanilla','Strawberry','Kesar']\n",
    "pd.Series(kulfi)"
   ]
  },
  {
   "cell_type": "code",
   "execution_count": 3,
   "metadata": {},
   "outputs": [
    {
     "data": {
      "text/plain": [
       "0     4\n",
       "1     8\n",
       "2    15\n",
       "3    12\n",
       "4    23\n",
       "5    43\n",
       "dtype: int64"
      ]
     },
     "execution_count": 3,
     "metadata": {},
     "output_type": "execute_result"
    }
   ],
   "source": [
    "lottery = [4,8,15,12,23,43]\n",
    "pd.Series(lottery)"
   ]
  },
  {
   "cell_type": "code",
   "execution_count": 4,
   "metadata": {
    "scrolled": false
   },
   "outputs": [
    {
     "data": {
      "text/plain": [
       "0     True\n",
       "1    False\n",
       "2    False\n",
       "3     True\n",
       "4    False\n",
       "5     True\n",
       "dtype: bool"
      ]
     },
     "execution_count": 4,
     "metadata": {},
     "output_type": "execute_result"
    }
   ],
   "source": [
    "reg = [True,False,False,True,False,True]\n",
    "pd.Series(reg)"
   ]
  },
  {
   "cell_type": "code",
   "execution_count": 10,
   "metadata": {},
   "outputs": [
    {
     "name": "stdout",
     "output_type": "stream",
     "text": [
      "['Smart' 'Handsome' 'Charming' 'Brilliant' 'Humble']\n",
      "RangeIndex(start=0, stop=5, step=1)\n",
      "object\n"
     ]
    }
   ],
   "source": [
    "import pandas as pd\n",
    "Men = ['Smart','Handsome','Charming','Brilliant','Humble']\n",
    "s = pd.Series(Men)\n",
    "print (s.values)\n",
    "print (s.index)\n",
    "print (s.dtype)"
   ]
  },
  {
   "cell_type": "code",
   "execution_count": 2,
   "metadata": {},
   "outputs": [
    {
     "name": "stdout",
     "output_type": "stream",
     "text": [
      "28.51\n",
      "5184.9647823959995\n",
      "5.702\n"
     ]
    },
    {
     "data": {
      "text/plain": [
       "Mon           Apple\n",
       "Tues          Mango\n",
       "Wed      Watermelon\n",
       "Thurs     pineapple\n",
       "Fri          Grapes\n",
       "dtype: object"
      ]
     },
     "execution_count": 2,
     "metadata": {},
     "output_type": "execute_result"
    }
   ],
   "source": [
    "#pandas methods parameters and arguments\n",
    "import pandas as pd\n",
    "Rate = [3.99,4.54,6.52,5.55,7.91]\n",
    "r = pd.Series(Rate)\n",
    "print(r.sum())\n",
    "print(r.product())\n",
    "print(r.mean())\n",
    "fruits = ['Apple','Mango','Watermelon','pineapple','Grapes']\n",
    "weekdays = ['Mon','Tues','Wed','Thurs','Fri']\n",
    "pd.Series(fruits,weekdays)\n",
    "pd.Series(data=fruits, index = weekdays)\n",
    "pd.Series(fruits,index= weekdays)"
   ]
  },
  {
   "cell_type": "code",
   "execution_count": 18,
   "metadata": {
    "scrolled": true
   },
   "outputs": [
    {
     "data": {
      "text/plain": [
       "0                Australia and Oceania\n",
       "1    Central America and the Caribbean\n",
       "2                               Europe\n",
       "3                   Sub-Saharan Africa\n",
       "4                   Sub-Saharan Africa\n",
       "Name: Region New, dtype: object"
      ]
     },
     "execution_count": 18,
     "metadata": {},
     "output_type": "execute_result"
    }
   ],
   "source": [
    "import pandas as pd\n",
    "test = pd.read_csv(\"100 Sales Records.csv\",squeeze = True,usecols = [\"Region\"])\n",
    "test.head(3)\n",
    "test.tail()\n",
    "test.values\n",
    "test.index\n",
    "test.tail(2)\n",
    "test.dtype\n",
    "test.is_unique\n",
    "test.ndim\n",
    "test.shape\n",
    "test.size\n",
    "test.name\n",
    "test.name = \"Region New\"\n",
    "test.head()"
   ]
  },
  {
   "cell_type": "code",
   "execution_count": 10,
   "metadata": {},
   "outputs": [
    {
     "data": {
      "text/plain": [
       "77    Asia\n",
       "70    Asia\n",
       "18    Asia\n",
       "96    Asia\n",
       "33    Asia\n",
       "Name: Region, dtype: object"
      ]
     },
     "execution_count": 10,
     "metadata": {},
     "output_type": "execute_result"
    }
   ],
   "source": [
    "import pandas as pd\n",
    "test = pd.read_csv(\"100 Sales Records.csv\",usecols = [\"Region\"],squeeze = True)\n",
    "test.sort_values().head(20)\n",
    "test.sort_values(ascending = True)\n",
    "test.sort_values(ascending = False).tail()"
   ]
  },
  {
   "cell_type": "code",
   "execution_count": 16,
   "metadata": {},
   "outputs": [
    {
     "data": {
      "text/plain": [
       "11       49.95\n",
       "9        50.07\n",
       "0        50.12\n",
       "10       50.70\n",
       "12       50.74\n",
       "         ...  \n",
       "3010    771.61\n",
       "3007    772.88\n",
       "3009    773.18\n",
       "2859    776.60\n",
       "3011    782.22\n",
       "Name: Stock Price, Length: 3012, dtype: float64"
      ]
     },
     "execution_count": 16,
     "metadata": {},
     "output_type": "execute_result"
    }
   ],
   "source": [
    "google = pd.read_csv(\"google_stock_price.csv\",squeeze = True)\n",
    "google.head()\n",
    "google.sort_values()\n",
    "google = "
   ]
  },
  {
   "cell_type": "code",
   "execution_count": 12,
   "metadata": {},
   "outputs": [
    {
     "data": {
      "text/plain": [
       "3011    782.22\n",
       "3010    771.61\n",
       "3009    773.18\n",
       "3008    771.07\n",
       "3007    772.88\n",
       "         ...  \n",
       "4        52.95\n",
       "3        52.38\n",
       "2        54.65\n",
       "1        54.10\n",
       "0        50.12\n",
       "Name: Stock Price, Length: 3012, dtype: float64"
      ]
     },
     "execution_count": 12,
     "metadata": {},
     "output_type": "execute_result"
    }
   ],
   "source": [
    "import pandas as pd\n",
    "data = pd.read_csv(\"google_stock_price.csv\",squeeze = True)\n",
    "data.sort_values(ascending = False,inplace=True)\n",
    "data.sort_index(ascending = False)"
   ]
  },
  {
   "cell_type": "code",
   "execution_count": 9,
   "metadata": {},
   "outputs": [
    {
     "data": {
      "text/plain": [
       "50                               Europe\n",
       "51                   Sub-Saharan Africa\n",
       "52         Middle East and North Africa\n",
       "53                   Sub-Saharan Africa\n",
       "54                   Sub-Saharan Africa\n",
       "55                   Sub-Saharan Africa\n",
       "56                Australia and Oceania\n",
       "57                               Europe\n",
       "58                               Europe\n",
       "59                   Sub-Saharan Africa\n",
       "60                Australia and Oceania\n",
       "61                               Europe\n",
       "62                   Sub-Saharan Africa\n",
       "63         Middle East and North Africa\n",
       "64    Central America and the Caribbean\n",
       "65                   Sub-Saharan Africa\n",
       "66                   Sub-Saharan Africa\n",
       "67    Central America and the Caribbean\n",
       "68                               Europe\n",
       "69                   Sub-Saharan Africa\n",
       "70                                 Asia\n",
       "71         Middle East and North Africa\n",
       "72                   Sub-Saharan Africa\n",
       "73                   Sub-Saharan Africa\n",
       "74         Middle East and North Africa\n",
       "75                        North America\n",
       "76                Australia and Oceania\n",
       "77                                 Asia\n",
       "78                               Europe\n",
       "79                Australia and Oceania\n",
       "80                               Europe\n",
       "81         Middle East and North Africa\n",
       "82         Middle East and North Africa\n",
       "83                   Sub-Saharan Africa\n",
       "84                   Sub-Saharan Africa\n",
       "85                        North America\n",
       "86                   Sub-Saharan Africa\n",
       "87                   Sub-Saharan Africa\n",
       "88         Middle East and North Africa\n",
       "89                               Europe\n",
       "90                   Sub-Saharan Africa\n",
       "91                Australia and Oceania\n",
       "92         Middle East and North Africa\n",
       "93                               Europe\n",
       "94    Central America and the Caribbean\n",
       "95                   Sub-Saharan Africa\n",
       "96                                 Asia\n",
       "97                   Sub-Saharan Africa\n",
       "98                        North America\n",
       "99                   Sub-Saharan Africa\n",
       "Name: Region, dtype: object"
      ]
     },
     "execution_count": 9,
     "metadata": {},
     "output_type": "execute_result"
    }
   ],
   "source": [
    "#extract by index\n",
    "import pandas as pd\n",
    "data = pd.read_csv(\"100 Sales Records.csv\",usecols = [\"Region\"],squeeze = True)\n",
    "data.head()\n",
    "data[10]\n",
    "data[[10,20,30]]\n",
    "data[50:300]"
   ]
  },
  {
   "cell_type": "code",
   "execution_count": 1,
   "metadata": {},
   "outputs": [
    {
     "data": {
      "text/html": [
       "<div>\n",
       "<style scoped>\n",
       "    .dataframe tbody tr th:only-of-type {\n",
       "        vertical-align: middle;\n",
       "    }\n",
       "\n",
       "    .dataframe tbody tr th {\n",
       "        vertical-align: top;\n",
       "    }\n",
       "\n",
       "    .dataframe thead th {\n",
       "        text-align: right;\n",
       "    }\n",
       "</style>\n",
       "<table border=\"1\" class=\"dataframe\">\n",
       "  <thead>\n",
       "    <tr style=\"text-align: right;\">\n",
       "      <th></th>\n",
       "      <th>Country</th>\n",
       "      <th>Item Type</th>\n",
       "      <th>Sales Channel</th>\n",
       "      <th>Order Priority</th>\n",
       "      <th>Order Date</th>\n",
       "      <th>Order ID</th>\n",
       "      <th>Ship Date</th>\n",
       "      <th>Units Sold</th>\n",
       "      <th>Unit Price</th>\n",
       "      <th>Unit Cost</th>\n",
       "      <th>Total Revenue</th>\n",
       "      <th>Total Cost</th>\n",
       "      <th>Total Profit</th>\n",
       "    </tr>\n",
       "    <tr>\n",
       "      <th>Region</th>\n",
       "      <th></th>\n",
       "      <th></th>\n",
       "      <th></th>\n",
       "      <th></th>\n",
       "      <th></th>\n",
       "      <th></th>\n",
       "      <th></th>\n",
       "      <th></th>\n",
       "      <th></th>\n",
       "      <th></th>\n",
       "      <th></th>\n",
       "      <th></th>\n",
       "      <th></th>\n",
       "    </tr>\n",
       "  </thead>\n",
       "  <tbody>\n",
       "    <tr>\n",
       "      <td>Australia and Oceania</td>\n",
       "      <td>Tuvalu</td>\n",
       "      <td>Baby Food</td>\n",
       "      <td>Offline</td>\n",
       "      <td>H</td>\n",
       "      <td>5/28/2010</td>\n",
       "      <td>669165933</td>\n",
       "      <td>6/27/2010</td>\n",
       "      <td>9925</td>\n",
       "      <td>255.28</td>\n",
       "      <td>159.42</td>\n",
       "      <td>2533654.00</td>\n",
       "      <td>1582243.50</td>\n",
       "      <td>951410.50</td>\n",
       "    </tr>\n",
       "    <tr>\n",
       "      <td>Central America and the Caribbean</td>\n",
       "      <td>Grenada</td>\n",
       "      <td>Cereal</td>\n",
       "      <td>Online</td>\n",
       "      <td>C</td>\n",
       "      <td>8/22/2012</td>\n",
       "      <td>963881480</td>\n",
       "      <td>9/15/2012</td>\n",
       "      <td>2804</td>\n",
       "      <td>205.70</td>\n",
       "      <td>117.11</td>\n",
       "      <td>576782.80</td>\n",
       "      <td>328376.44</td>\n",
       "      <td>248406.36</td>\n",
       "    </tr>\n",
       "    <tr>\n",
       "      <td>Europe</td>\n",
       "      <td>Russia</td>\n",
       "      <td>Office Supplies</td>\n",
       "      <td>Offline</td>\n",
       "      <td>L</td>\n",
       "      <td>5/2/2014</td>\n",
       "      <td>341417157</td>\n",
       "      <td>5/8/2014</td>\n",
       "      <td>1779</td>\n",
       "      <td>651.21</td>\n",
       "      <td>524.96</td>\n",
       "      <td>1158502.59</td>\n",
       "      <td>933903.84</td>\n",
       "      <td>224598.75</td>\n",
       "    </tr>\n",
       "    <tr>\n",
       "      <td>Sub-Saharan Africa</td>\n",
       "      <td>Sao Tome and Principe</td>\n",
       "      <td>Fruits</td>\n",
       "      <td>Online</td>\n",
       "      <td>C</td>\n",
       "      <td>6/20/2014</td>\n",
       "      <td>514321792</td>\n",
       "      <td>7/5/2014</td>\n",
       "      <td>8102</td>\n",
       "      <td>9.33</td>\n",
       "      <td>6.92</td>\n",
       "      <td>75591.66</td>\n",
       "      <td>56065.84</td>\n",
       "      <td>19525.82</td>\n",
       "    </tr>\n",
       "    <tr>\n",
       "      <td>Sub-Saharan Africa</td>\n",
       "      <td>Rwanda</td>\n",
       "      <td>Office Supplies</td>\n",
       "      <td>Offline</td>\n",
       "      <td>L</td>\n",
       "      <td>2/1/2013</td>\n",
       "      <td>115456712</td>\n",
       "      <td>2/6/2013</td>\n",
       "      <td>5062</td>\n",
       "      <td>651.21</td>\n",
       "      <td>524.96</td>\n",
       "      <td>3296425.02</td>\n",
       "      <td>2657347.52</td>\n",
       "      <td>639077.50</td>\n",
       "    </tr>\n",
       "    <tr>\n",
       "      <td>...</td>\n",
       "      <td>...</td>\n",
       "      <td>...</td>\n",
       "      <td>...</td>\n",
       "      <td>...</td>\n",
       "      <td>...</td>\n",
       "      <td>...</td>\n",
       "      <td>...</td>\n",
       "      <td>...</td>\n",
       "      <td>...</td>\n",
       "      <td>...</td>\n",
       "      <td>...</td>\n",
       "      <td>...</td>\n",
       "      <td>...</td>\n",
       "    </tr>\n",
       "    <tr>\n",
       "      <td>Sub-Saharan Africa</td>\n",
       "      <td>Mali</td>\n",
       "      <td>Clothes</td>\n",
       "      <td>Online</td>\n",
       "      <td>M</td>\n",
       "      <td>7/26/2011</td>\n",
       "      <td>512878119</td>\n",
       "      <td>9/3/2011</td>\n",
       "      <td>888</td>\n",
       "      <td>109.28</td>\n",
       "      <td>35.84</td>\n",
       "      <td>97040.64</td>\n",
       "      <td>31825.92</td>\n",
       "      <td>65214.72</td>\n",
       "    </tr>\n",
       "    <tr>\n",
       "      <td>Asia</td>\n",
       "      <td>Malaysia</td>\n",
       "      <td>Fruits</td>\n",
       "      <td>Offline</td>\n",
       "      <td>L</td>\n",
       "      <td>11/11/2011</td>\n",
       "      <td>810711038</td>\n",
       "      <td>12/28/2011</td>\n",
       "      <td>6267</td>\n",
       "      <td>9.33</td>\n",
       "      <td>6.92</td>\n",
       "      <td>58471.11</td>\n",
       "      <td>43367.64</td>\n",
       "      <td>15103.47</td>\n",
       "    </tr>\n",
       "    <tr>\n",
       "      <td>Sub-Saharan Africa</td>\n",
       "      <td>Sierra Leone</td>\n",
       "      <td>Vegetables</td>\n",
       "      <td>Offline</td>\n",
       "      <td>C</td>\n",
       "      <td>6/1/2016</td>\n",
       "      <td>728815257</td>\n",
       "      <td>6/29/2016</td>\n",
       "      <td>1485</td>\n",
       "      <td>154.06</td>\n",
       "      <td>90.93</td>\n",
       "      <td>228779.10</td>\n",
       "      <td>135031.05</td>\n",
       "      <td>93748.05</td>\n",
       "    </tr>\n",
       "    <tr>\n",
       "      <td>North America</td>\n",
       "      <td>Mexico</td>\n",
       "      <td>Personal Care</td>\n",
       "      <td>Offline</td>\n",
       "      <td>M</td>\n",
       "      <td>7/30/2015</td>\n",
       "      <td>559427106</td>\n",
       "      <td>8/8/2015</td>\n",
       "      <td>5767</td>\n",
       "      <td>81.73</td>\n",
       "      <td>56.67</td>\n",
       "      <td>471336.91</td>\n",
       "      <td>326815.89</td>\n",
       "      <td>144521.02</td>\n",
       "    </tr>\n",
       "    <tr>\n",
       "      <td>Sub-Saharan Africa</td>\n",
       "      <td>Mozambique</td>\n",
       "      <td>Household</td>\n",
       "      <td>Offline</td>\n",
       "      <td>L</td>\n",
       "      <td>2/10/2012</td>\n",
       "      <td>665095412</td>\n",
       "      <td>2/15/2012</td>\n",
       "      <td>5367</td>\n",
       "      <td>668.27</td>\n",
       "      <td>502.54</td>\n",
       "      <td>3586605.09</td>\n",
       "      <td>2697132.18</td>\n",
       "      <td>889472.91</td>\n",
       "    </tr>\n",
       "  </tbody>\n",
       "</table>\n",
       "<p>100 rows × 13 columns</p>\n",
       "</div>"
      ],
      "text/plain": [
       "                                                 Country        Item Type  \\\n",
       "Region                                                                      \n",
       "Australia and Oceania                             Tuvalu        Baby Food   \n",
       "Central America and the Caribbean                Grenada           Cereal   \n",
       "Europe                                            Russia  Office Supplies   \n",
       "Sub-Saharan Africa                 Sao Tome and Principe           Fruits   \n",
       "Sub-Saharan Africa                                Rwanda  Office Supplies   \n",
       "...                                                  ...              ...   \n",
       "Sub-Saharan Africa                                  Mali          Clothes   \n",
       "Asia                                            Malaysia           Fruits   \n",
       "Sub-Saharan Africa                          Sierra Leone       Vegetables   \n",
       "North America                                     Mexico    Personal Care   \n",
       "Sub-Saharan Africa                            Mozambique        Household   \n",
       "\n",
       "                                  Sales Channel Order Priority  Order Date  \\\n",
       "Region                                                                       \n",
       "Australia and Oceania                   Offline              H   5/28/2010   \n",
       "Central America and the Caribbean        Online              C   8/22/2012   \n",
       "Europe                                  Offline              L    5/2/2014   \n",
       "Sub-Saharan Africa                       Online              C   6/20/2014   \n",
       "Sub-Saharan Africa                      Offline              L    2/1/2013   \n",
       "...                                         ...            ...         ...   \n",
       "Sub-Saharan Africa                       Online              M   7/26/2011   \n",
       "Asia                                    Offline              L  11/11/2011   \n",
       "Sub-Saharan Africa                      Offline              C    6/1/2016   \n",
       "North America                           Offline              M   7/30/2015   \n",
       "Sub-Saharan Africa                      Offline              L   2/10/2012   \n",
       "\n",
       "                                    Order ID   Ship Date  Units Sold  \\\n",
       "Region                                                                 \n",
       "Australia and Oceania              669165933   6/27/2010        9925   \n",
       "Central America and the Caribbean  963881480   9/15/2012        2804   \n",
       "Europe                             341417157    5/8/2014        1779   \n",
       "Sub-Saharan Africa                 514321792    7/5/2014        8102   \n",
       "Sub-Saharan Africa                 115456712    2/6/2013        5062   \n",
       "...                                      ...         ...         ...   \n",
       "Sub-Saharan Africa                 512878119    9/3/2011         888   \n",
       "Asia                               810711038  12/28/2011        6267   \n",
       "Sub-Saharan Africa                 728815257   6/29/2016        1485   \n",
       "North America                      559427106    8/8/2015        5767   \n",
       "Sub-Saharan Africa                 665095412   2/15/2012        5367   \n",
       "\n",
       "                                   Unit Price  Unit Cost  Total Revenue  \\\n",
       "Region                                                                    \n",
       "Australia and Oceania                  255.28     159.42     2533654.00   \n",
       "Central America and the Caribbean      205.70     117.11      576782.80   \n",
       "Europe                                 651.21     524.96     1158502.59   \n",
       "Sub-Saharan Africa                       9.33       6.92       75591.66   \n",
       "Sub-Saharan Africa                     651.21     524.96     3296425.02   \n",
       "...                                       ...        ...            ...   \n",
       "Sub-Saharan Africa                     109.28      35.84       97040.64   \n",
       "Asia                                     9.33       6.92       58471.11   \n",
       "Sub-Saharan Africa                     154.06      90.93      228779.10   \n",
       "North America                           81.73      56.67      471336.91   \n",
       "Sub-Saharan Africa                     668.27     502.54     3586605.09   \n",
       "\n",
       "                                   Total Cost  Total Profit  \n",
       "Region                                                       \n",
       "Australia and Oceania              1582243.50     951410.50  \n",
       "Central America and the Caribbean   328376.44     248406.36  \n",
       "Europe                              933903.84     224598.75  \n",
       "Sub-Saharan Africa                   56065.84      19525.82  \n",
       "Sub-Saharan Africa                 2657347.52     639077.50  \n",
       "...                                       ...           ...  \n",
       "Sub-Saharan Africa                   31825.92      65214.72  \n",
       "Asia                                 43367.64      15103.47  \n",
       "Sub-Saharan Africa                  135031.05      93748.05  \n",
       "North America                       326815.89     144521.02  \n",
       "Sub-Saharan Africa                 2697132.18     889472.91  \n",
       "\n",
       "[100 rows x 13 columns]"
      ]
     },
     "execution_count": 1,
     "metadata": {},
     "output_type": "execute_result"
    }
   ],
   "source": [
    "#extract by label\n",
    "import pandas as pd\n",
    "read = pd.read_csv(\"100 Sales Records.csv\", index_col = \"Region\",squeeze = True)\n",
    "read"
   ]
  },
  {
   "cell_type": "code",
   "execution_count": 65,
   "metadata": {},
   "outputs": [
    {
     "data": {
      "text/plain": [
       "Pokemon\n",
       "Abomasnow      Grass\n",
       "Abra         Psychic\n",
       "Absol           Dark\n",
       "Accelgor         Bug\n",
       "Aegislash      Steel\n",
       "Name: Type, dtype: object"
      ]
     },
     "execution_count": 65,
     "metadata": {},
     "output_type": "execute_result"
    }
   ],
   "source": [
    "import pandas as pd\n",
    "k = pd.read_csv(\"pokemon.csv\",index_col = \"Pokemon\", squeeze = True)\n",
    "k.sort_index(inplace = True)\n",
    "k.head()"
   ]
  },
  {
   "cell_type": "code",
   "execution_count": 13,
   "metadata": {},
   "outputs": [
    {
     "data": {
      "text/plain": [
       "'This is not a pokemon'"
      ]
     },
     "execution_count": 13,
     "metadata": {},
     "output_type": "execute_result"
    }
   ],
   "source": [
    "import pandas as pd\n",
    "data = pd.read_csv(\"pokemon.csv\",index_col = \"Pokemon\",squeeze = True)\n",
    "data.sort_index(inplace = True)\n",
    "data.head()\n",
    "data.get(\"Moltres\")\n",
    "data.get([\"Moltres\",\"Meowth\"])\n",
    "data.get(key=[\"Moltres\",\"Meowth\"])\n",
    "data.get(key = [\"Digimon\",\"Charizard\"],default = \"This is not a pokemon\")\n",
    "data.get(key = [\"Digimon\",\"test\"],default = \"This is not a pokemon\")"
   ]
  },
  {
   "cell_type": "code",
   "execution_count": 25,
   "metadata": {},
   "outputs": [
    {
     "data": {
      "text/plain": [
       "283.315"
      ]
     },
     "execution_count": 25,
     "metadata": {},
     "output_type": "execute_result"
    }
   ],
   "source": [
    "import pandas as pd\n",
    "google = pd.read_csv(\"google_stock_price.csv\",squeeze = True)\n",
    "google.head()\n",
    "google.count()\n",
    "len(google)\n",
    "google.sum()\n",
    "google.mean()\n",
    "google.sum()/google.count()\n",
    "google.std()\n",
    "google.min()\n",
    "google.max()\n",
    "google.median()"
   ]
  },
  {
   "cell_type": "code",
   "execution_count": 7,
   "metadata": {},
   "outputs": [
    {
     "data": {
      "text/plain": [
       "49.95"
      ]
     },
     "execution_count": 7,
     "metadata": {},
     "output_type": "execute_result"
    }
   ],
   "source": [
    "import pandas as pd\n",
    "google = pd.read_csv(\"google_stock_price.csv\",squeeze = True)\n",
    "google.head()\n",
    "google.max() \n",
    "google.idxmax()\n",
    "#3011\n",
    "google[3011]\n",
    "#782.22\n",
    "google.idxmin()\n",
    "#11\n",
    "google[11]\n",
    "#49.95"
   ]
  },
  {
   "cell_type": "code",
   "execution_count": 13,
   "metadata": {},
   "outputs": [
    {
     "data": {
      "text/plain": [
       "Flying        3\n",
       "Fairy        17\n",
       "Steel        22\n",
       "Ice          23\n",
       "Ghost        23\n",
       "Dragon       24\n",
       "Fighting     25\n",
       "Dark         28\n",
       "Poison       28\n",
       "Ground       30\n",
       "Electric     36\n",
       "Rock         41\n",
       "Psychic      47\n",
       "Fire         47\n",
       "Bug          63\n",
       "Grass        66\n",
       "Normal       93\n",
       "Water       105\n",
       "Name: Type, dtype: int64"
      ]
     },
     "execution_count": 13,
     "metadata": {},
     "output_type": "execute_result"
    }
   ],
   "source": [
    "import pandas as pd\n",
    "pokemon = pd.read_csv(\"pokemon.csv\",index_col = \"Pokemon\",squeeze = True)\n",
    "pokemon.value_counts()\n",
    "pokemon.value_counts().sum()\n",
    "pokemon.count()\n",
    "pokemon.value_counts(ascending = True)"
   ]
  },
  {
   "cell_type": "code",
   "execution_count": 23,
   "metadata": {},
   "outputs": [
    {
     "data": {
      "text/plain": [
       "0        50.12\n",
       "1        54.10\n",
       "2        54.65\n",
       "3        52.38\n",
       "4        52.95\n",
       "         ...  \n",
       "3007    772.88\n",
       "3008    771.07\n",
       "3009    773.18\n",
       "3010    771.61\n",
       "3011    782.22\n",
       "Name: Stock Price, Length: 3012, dtype: float64"
      ]
     },
     "execution_count": 23,
     "metadata": {},
     "output_type": "execute_result"
    }
   ],
   "source": [
    "import pandas as pd\n",
    "google = pd.read_csv(\"google_stock_price.csv\",squeeze = True)\n",
    "google.head()\n",
    "\n",
    "def classify_per(number):\n",
    "    if number <300:\n",
    "        return \"Ok\"\n",
    "    elif (number >300 and number < 650):\n",
    "        return \"Satisfactory\"\n",
    "    else:\n",
    "        return \"Incerdible\"\n",
    "\n",
    "google.apply(classify_per).tail(11)\n",
    "google"
   ]
  }
 ],
 "metadata": {
  "kernelspec": {
   "display_name": "Python 3",
   "language": "python",
   "name": "python3"
  },
  "language_info": {
   "codemirror_mode": {
    "name": "ipython",
    "version": 3
   },
   "file_extension": ".py",
   "mimetype": "text/x-python",
   "name": "python",
   "nbconvert_exporter": "python",
   "pygments_lexer": "ipython3",
   "version": "3.7.4"
  }
 },
 "nbformat": 4,
 "nbformat_minor": 2
}
