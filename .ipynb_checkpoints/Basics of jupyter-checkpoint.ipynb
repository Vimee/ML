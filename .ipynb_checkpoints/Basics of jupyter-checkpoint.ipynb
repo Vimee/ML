{
 "cells": [
  {
   "cell_type": "markdown",
   "metadata": {},
   "source": [
    "# Higher font comment\n",
    "### Lower font comment\n",
    "- points\n",
    "- use shift+tab before bracket of a function to see its complete details"
   ]
  },
  {
   "cell_type": "code",
   "execution_count": 4,
   "metadata": {},
   "outputs": [
    {
     "name": "stdout",
     "output_type": "stream",
     "text": [
      "My first name is Kritika and last name is Verma\n",
      "My first name is Kritika and last name is Verma\n"
     ]
    }
   ],
   "source": [
    "First = u'Kritika'\n",
    "Last = u'Verma'\n",
    "print (\"My first name is {} and last name is {}\".format(First,Last))\n",
    "print (\"My first name is {first} and last name is {last}\".format(last = Last,first = First))"
   ]
  },
  {
   "cell_type": "markdown",
   "metadata": {},
   "source": [
    "# Checking Git"
   ]
  }
 ],
 "metadata": {
  "kernelspec": {
   "display_name": "Python 3",
   "language": "python",
   "name": "python3"
  },
  "language_info": {
   "codemirror_mode": {
    "name": "ipython",
    "version": 3
   },
   "file_extension": ".py",
   "mimetype": "text/x-python",
   "name": "python",
   "nbconvert_exporter": "python",
   "pygments_lexer": "ipython3",
   "version": "3.7.4"
  }
 },
 "nbformat": 4,
 "nbformat_minor": 2
}
