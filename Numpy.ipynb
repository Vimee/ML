{
 "cells": [
  {
   "cell_type": "code",
   "execution_count": 14,
   "metadata": {},
   "outputs": [
    {
     "name": "stdout",
     "output_type": "stream",
     "text": [
      "<class 'numpy.ndarray'>\n",
      "[0 4 8]\n",
      "[0. 0. 0. 0.]\n",
      "[[1. 1.]\n",
      " [1. 1.]\n",
      " [1. 1.]\n",
      " [1. 1.]\n",
      " [1. 1.]]\n",
      "4\n",
      "[[4 4 6]\n",
      " [5 4 5]\n",
      " [4 5 6]\n",
      " [4 5 6]\n",
      " [4 4 5]]\n",
      "[ 8  6 10  8  6 10  5  9  5 10]\n",
      "10\n",
      "5\n",
      "7.7\n",
      "2\n",
      "[[ 8  6 10  8  6]\n",
      " [10  5  9  5 10]]\n"
     ]
    }
   ],
   "source": [
    "import numpy as np\n",
    "\n",
    "MyList = [1,2,3,4]\n",
    "MyArr = np.array(MyList)\n",
    "print(type(MyArr))\n",
    "print(np.arange(0,11,4))\n",
    "print(np.zeros(4))\n",
    "print(np.ones((5,2)))\n",
    "print(np.random.randint(4,7))\n",
    "print(np.random.randint(4,7,(5,3)))\n",
    "np.random.seed(101)\n",
    "ArrX = np.random.randint(5,11,10)\n",
    "print(ArrX)\n",
    "print(ArrX.max())\n",
    "print(ArrX.min())\n",
    "print(ArrX.mean())\n",
    "print(ArrX.argmax())\n",
    "print(ArrX.reshape(2,5))"
   ]
  }
 ],
 "metadata": {
  "kernelspec": {
   "display_name": "Python 3",
   "language": "python",
   "name": "python3"
  },
  "language_info": {
   "codemirror_mode": {
    "name": "ipython",
    "version": 3
   },
   "file_extension": ".py",
   "mimetype": "text/x-python",
   "name": "python",
   "nbconvert_exporter": "python",
   "pygments_lexer": "ipython3",
   "version": "3.7.4"
  }
 },
 "nbformat": 4,
 "nbformat_minor": 2
}
