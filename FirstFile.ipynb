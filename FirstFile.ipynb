{
 "cells": [
  {
   "cell_type": "code",
   "execution_count": 6,
   "metadata": {},
   "outputs": [
    {
     "name": "stdout",
     "output_type": "stream",
     "text": [
      "13\n"
     ]
    }
   ],
   "source": [
    "var = 13\n",
    "print(var)"
   ]
  },
  {
   "cell_type": "code",
   "execution_count": 16,
   "metadata": {},
   "outputs": [
    {
     "name": "stdout",
     "output_type": "stream",
     "text": [
      "Hello Kritika!!,How are you\n"
     ]
    }
   ],
   "source": [
    "message2= '{}{}How are you'.format(var1,var2)\n",
    "print(message2)"
   ]
  },
  {
   "cell_type": "code",
   "execution_count": 23,
   "metadata": {
    "scrolled": true
   },
   "outputs": [
    {
     "name": "stdout",
     "output_type": "stream",
     "text": [
      "Hello Kritika!!.How are you?\n"
     ]
    }
   ],
   "source": [
    "message3 = f'{var1}{var2}.How are you?'\n",
    "print(message3)"
   ]
  },
  {
   "cell_type": "code",
   "execution_count": 47,
   "metadata": {},
   "outputs": [
    {
     "name": "stdout",
     "output_type": "stream",
     "text": [
      "<class 'str'>\n",
      "hello kritika!!. how are you\n",
      "HELLO KRITIKA!!. HOW ARE YOU\n",
      "28\n",
      "28\n",
      "1\n",
      "6\n",
      "K\n",
      "Hello Kritika!\n",
      "llo Kritika!!. How are yo\n"
     ]
    }
   ],
   "source": [
    "message4 = \"Hello Kritika!!. How are you\"\n",
    "print(type(message4))\n",
    "print(message4.lower())\n",
    "print(message4.upper())\n",
    "print(message4.__len__())\n",
    "print(len(message4))\n",
    "print(message4.count('!!'))\n",
    "print(message4.find(\"Kritika\"))\n",
    "print(message4[6])\n",
    "print(message4[0:14])\n",
    "print(message4[2:-1])"
   ]
  },
  {
   "cell_type": "code",
   "execution_count": 52,
   "metadata": {},
   "outputs": [
    {
     "name": "stdout",
     "output_type": "stream",
     "text": [
      "value of i=0, squared  and cubed is 0 and 0 respectively\n",
      "inside loop\n",
      "value of i=1, squared  and cubed is 1 and 1 respectively\n",
      "inside loop\n",
      "value of i=2, squared  and cubed is 4 and 8 respectively\n",
      "inside loop\n",
      "value of i=3, squared  and cubed is 9 and 27 respectively\n",
      "inside loop\n",
      "value of i=4, squared  and cubed is 16 and 64 respectively\n",
      "inside loop\n",
      "value of i=5, squared  and cubed is 25 and 125 respectively\n",
      "inside loop\n",
      "value of i=6, squared  and cubed is 36 and 216 respectively\n",
      "inside loop\n",
      "outside loop\n"
     ]
    }
   ],
   "source": [
    "#loops\n",
    "for i in range(0,7):\n",
    "    print('value of i={}, squared  and cubed is {} and {} respectively'.format(i,i**2,i**3))\n",
    "    print('inside loop')\n",
    "print('outside loop')    \n",
    "    "
   ]
  },
  {
   "cell_type": "code",
   "execution_count": 65,
   "metadata": {},
   "outputs": [
    {
     "name": "stdout",
     "output_type": "stream",
     "text": [
      "0.00741608118657299\n"
     ]
    }
   ],
   "source": [
    "#functions\n",
    "def function1st():\n",
    "    print(\"four type of functions\")\n",
    "    \n",
    "#function1st()\n",
    "\n",
    "#1)No argument No return type\n",
    "def add():\n",
    "    var1 = int(input(\"Enter value of num1\"))\n",
    "    var2 = int(input(\"Enter value of num2\"))\n",
    "    print(var1+var2)\n",
    "\n",
    "#add()\n",
    "\n",
    "#2)With argument No return type\n",
    "def subtract(var1,var2):\n",
    "    if(var1>var2):\n",
    "        print(var1-var2)\n",
    "    else:\n",
    "        print(var2-var1)\n",
    "        \n",
    "#subtract(5,3)\n",
    "\n",
    "#3) No argument with return type\n",
    "def multiply():\n",
    "    var1 = int(input(\"Enter value of num1\"))\n",
    "    var2 = int(input(\"Enter value of num2\"))\n",
    "    var3 = var1*var2\n",
    "    return var3\n",
    "\n",
    "#print(multiply())\n",
    "\n",
    "#With argument with return type\n",
    "def devide(var1, var2):\n",
    "    return(var1/var2)\n",
    "\n",
    "print(devide(57,7686))"
   ]
  },
  {
   "cell_type": "code",
   "execution_count": 73,
   "metadata": {},
   "outputs": [
    {
     "name": "stdout",
     "output_type": "stream",
     "text": [
      "Enter the number:2345\n",
      "2345\n",
      "23452345\n",
      "4690\n",
      "<class 'str'>\n",
      "<class 'int'>\n"
     ]
    },
    {
     "data": {
      "text/plain": [
       "\"by default input function converts anything inputted to string\\n(also remember in python characters don't exist only strings exist )\""
      ]
     },
     "execution_count": 73,
     "metadata": {},
     "output_type": "execute_result"
    }
   ],
   "source": [
    "#input\n",
    "\"\"\"name=input(\"Enter your name:\")\n",
    "print(\"Hello \"+name)\"\"\"\n",
    "var1=input(\"Enter the number:\")\n",
    "print(var1)\n",
    "print(var1*2)\n",
    "print(int(var1)*2)\n",
    "print(type(var1))\n",
    "print(type(int(var1)))\n",
    "\n",
    "\"\"\"by default input function converts anything inputted to string\n",
    "(also remember in python characters don't exist only strings exist )\"\"\" "
   ]
  },
  {
   "cell_type": "code",
   "execution_count": 85,
   "metadata": {},
   "outputs": [
    {
     "name": "stdout",
     "output_type": "stream",
     "text": [
      "Hi I am good,\n",
      "how about you\n",
      "Column1 \tColumn2 \tColumn3 \tColumn4 \tColumn5\n",
      "Heyy What's up?\n",
      "Hey what\"s your name?\n",
      "What's your name?\n",
      "triple quotes\n",
      "Hi I am good,\n",
      "how about you\n"
     ]
    }
   ],
   "source": [
    "#string splitting\n",
    "print(\"Hi I am good,\\nhow about you\")\n",
    "print(\"Column1 \\tColumn2 \\tColumn3 \\tColumn4 \\tColumn5\")\n",
    "print('Heyy What\\'s up?')\n",
    "print(\"Hey what\\\"s your name?\")\n",
    "print(\"What's your name?\")\n",
    "print(\"\"\"triple quotes\"\"\")\n",
    "print(\"\"\"Hi I am good,\n",
    "how about you\"\"\")"
   ]
  },
  {
   "cell_type": "code",
   "execution_count": 15,
   "metadata": {},
   "outputs": [
    {
     "name": "stdout",
     "output_type": "stream",
     "text": [
      "1 5 9 13 17 21 \n",
      "\n",
      "01234567872\n",
      "The number is 1234567872\n"
     ]
    }
   ],
   "source": [
    "#loops\n",
    "number = '0,12,345,6,78,72'\n",
    "cleanedNumber =''\n",
    "for i in range(1,25,4):\n",
    "    print(str(i)+' ',end='')\n",
    "    \n",
    "print('\\n')\n",
    "    \n",
    "for i in range(0,len(number)):\n",
    "    if number[i] in '0123456789':\n",
    "        print(number[i],end='')\n",
    "        cleanedNumber = cleanedNumber+number[i]\n",
    "newNumber = int(cleanedNumber)\n",
    "print('\\nThe number is {}'.format(newNumber))"
   ]
  },
  {
   "cell_type": "code",
   "execution_count": 2,
   "metadata": {},
   "outputs": [
    {
     "name": "stdout",
     "output_type": "stream",
     "text": [
      "Value of var1= 0\n",
      "Value of var1= 1\n",
      "Value of var1= 2\n",
      "Value of var1= 3\n",
      "Value of var1= 4\n",
      "Value of var1= 5\n",
      "Value of var1= 6\n",
      "Value of var1= 7\n",
      "Value of var1= 8\n",
      "Value of var1= 9\n",
      "please enter the directionnortheast\n",
      "yeyyy!!you are out of that loop\n"
     ]
    }
   ],
   "source": [
    "#while loop\n",
    "var1 = 0\n",
    "while var1 < 10:\n",
    "    print (\"Value of var1=\",var1)\n",
    "    var1+=1\n",
    "    \n",
    "AvailableExists = [\"east\",\"northeast\",\"south\"]\n",
    "ChosenExit = \"\"\n",
    "while ChosenExit not in AvailableExists:\n",
    "    ChosenExit = input(\"please enter the direction\")\n",
    "    if ChosenExit == \"Quit\":\n",
    "        print(\"Your game over\")\n",
    "        break\n",
    "    elif ChosenExit in AvailableExists:\n",
    "        print(\"yeyyy!!you are out of that loop\")"
   ]
  },
  {
   "cell_type": "code",
   "execution_count": 33,
   "metadata": {},
   "outputs": [
    {
     "name": "stdout",
     "output_type": "stream",
     "text": [
      "[1, 2, 3, 4, 5]\n",
      "['cat', 'dog', 'elephant']\n",
      "[1, 1.2, 'kritika']\n",
      "kritika\n",
      "['cat', 'dog']\n",
      "['dog', 'elephant']\n",
      "hello kritika\n",
      "hello kritika\n",
      "[1, 1.2, 'kritika']\n",
      "3\n",
      "[1, 1.2, 'kritika', 'Nisha']\n",
      "[1, 'preeti', 1.2, 'kritika', 'Nisha']\n",
      "[1, 1.2, 'kritika', 'Nisha']\n",
      "[1.1, 1.2, 3.7, 8.1, 9.87]\n",
      "34.787987\n",
      "a\n"
     ]
    }
   ],
   "source": [
    "#lists\n",
    "listn = [1,2,3,4,5]\n",
    "lists = ['cat','dog','elephant']\n",
    "listVarious = [1,1.2,'kritika']\n",
    "listFloat = [1.2,1.1,3.7,9.87,8.1]\n",
    "print(listn),\n",
    "print(lists),\n",
    "print(listVarious)\n",
    "print(listVarious[2])\n",
    "print(lists[:2])\n",
    "print(lists[1:])\n",
    "print('hello '+listVarious[2])\n",
    "print('hello '+listVarious[-1])\n",
    "print( listVarious[:])\n",
    "print(len(listVarious))\n",
    "listVarious.append('Nisha')  #appendat end only\n",
    "print(listVarious)\n",
    "listVarious.insert(1,'preeti')\n",
    "print(listVarious)\n",
    "listVarious.remove('preeti')\n",
    "print(listVarious)\n",
    "listFloat.sort()\n",
    "print(listFloat)\n",
    "#multi dimensional lists\n",
    "varx= [[1,2,3],['a','b','c'],[1.23,7.7897,34.787987]]\n",
    "print(varx[2][2])\n",
    "print(varx[1][0])"
   ]
  },
  {
   "cell_type": "code",
   "execution_count": 49,
   "metadata": {},
   "outputs": [
    {
     "name": "stdout",
     "output_type": "stream",
     "text": [
      "1\n",
      "2\n",
      "3\n",
      "4\n",
      "5\n",
      "6\n",
      "7\n",
      "8\n",
      "9\n",
      "0\n",
      "\n",
      "\n",
      "1\n",
      "\n",
      "\n",
      "1\n",
      "2\n",
      "3\n",
      "4\n",
      "5\n",
      "6\n",
      "7\n",
      "8\n",
      "9\n",
      "0\n",
      "Monday\n",
      "Tuesday\n",
      "Wednesday\n",
      "Thursday\n",
      "Friday\n",
      "Saturday\n",
      "Sunday\n"
     ]
    }
   ],
   "source": [
    "#iterator is a stream of data\n",
    "string = \"1234567890\"\n",
    "\n",
    "for char in string:\n",
    "    print(char),\n",
    "print(\"\\n\")  \n",
    "#or you can also do this\n",
    "MyIterator = iter(string)\n",
    "#print(*MyIterator)\n",
    "print(next(MyIterator))\n",
    "print(\"\\n\")\n",
    "for char in iter(string):\n",
    "    print(char)\n",
    "    \n",
    "SevenDays = ['Monday','Tuesday','Wednesday','Thursday','Friday','Saturday','Sunday']\n",
    "DayIter = iter(SevenDays)\n",
    "\n",
    "for day in range(0,len(SevenDays)):\n",
    "    print(next(DayIter))"
   ]
  },
  {
   "cell_type": "code",
   "execution_count": null,
   "metadata": {},
   "outputs": [
    {
     "name": "stdout",
     "output_type": "stream",
     "text": [
      "fat\n",
      "\n",
      "\n",
      "fat\n",
      "grey\n",
      "loud\n",
      "\n",
      "\n",
      "size\n",
      "color\n",
      "disposition\n",
      "\n",
      "\n",
      "('size', 'fat')\n",
      "('color', 'grey')\n",
      "('disposition', 'loud')\n"
     ]
    }
   ],
   "source": [
    "#dictionaries\n",
    "myCat1 = {'size':'fat','color':'grey','disposition':'loud'}\n",
    "print(myCat['size'])\n",
    "myCat2 = {'disposition':'loud','size':'fat','color':'grey'}\n",
    "myCat1 == myCat2\n",
    "print(\"\\n\")\n",
    "for a in myCat1.values():\n",
    "    print(a)\n",
    "print(\"\\n\")   \n",
    "for a in myCat1.keys():\n",
    "    print(a)\n",
    "    \n",
    "print(\"\\n\")\n",
    "for i in myCat1.items():\n",
    "    print(i)\n",
    "    \n",
    "ss = input(\"Enter anything\")\n",
    "myCat1['entered'] = ss\n",
    "print(myCat1)"
   ]
  },
  {
   "cell_type": "code",
   "execution_count": null,
   "metadata": {},
   "outputs": [],
   "source": []
  }
 ],
 "metadata": {
  "kernelspec": {
   "display_name": "Python 3",
   "language": "python",
   "name": "python3"
  },
  "language_info": {
   "codemirror_mode": {
    "name": "ipython",
    "version": 3
   },
   "file_extension": ".py",
   "mimetype": "text/x-python",
   "name": "python",
   "nbconvert_exporter": "python",
   "pygments_lexer": "ipython3",
   "version": "3.7.4"
  }
 },
 "nbformat": 4,
 "nbformat_minor": 2
}
